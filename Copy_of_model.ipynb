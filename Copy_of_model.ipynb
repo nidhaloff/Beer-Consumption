{
  "nbformat": 4,
  "nbformat_minor": 0,
  "metadata": {
    "colab": {
      "name": "Copy of model.ipynb",
      "provenance": [],
      "include_colab_link": true
    },
    "kernelspec": {
      "name": "python3",
      "display_name": "Python 3"
    },
    "accelerator": "GPU"
  },
  "cells": [
    {
      "cell_type": "markdown",
      "metadata": {
        "id": "view-in-github",
        "colab_type": "text"
      },
      "source": [
        "<a href=\"https://colab.research.google.com/github/nidhaloff/Beer-Consumption/blob/univariate/Copy_of_model.ipynb\" target=\"_parent\"><img src=\"https://colab.research.google.com/assets/colab-badge.svg\" alt=\"Open In Colab\"/></a>"
      ]
    },
    {
      "cell_type": "code",
      "metadata": {
        "id": "xr98FIiJwgua",
        "colab_type": "code",
        "outputId": "c469c0d5-1d83-426a-f5f5-9ab7a2d721a2",
        "colab": {
          "base_uri": "https://localhost:8080/",
          "height": 34
        }
      },
      "source": [
        "import keras\n",
        "from keras import backend as K\n",
        "import tensorflow as tf\n",
        "import numpy as np\n",
        "import pandas as pd\n",
        "import matplotlib.pyplot as plt\n",
        "import seaborn as sns\n",
        "import torch\n",
        "import torch.nn as nn\n",
        "import torch.optim as optim\n",
        "from torch.utils.data import TensorDataset, DataLoader\n",
        "from sklearn.metrics import r2_score\n",
        "\n",
        "%matplotlib inline\n",
        "\n",
        "# run keras model on google GPU\n",
        "sess = tf.Session(config=tf.ConfigProto(log_device_placement=True))\n",
        "K.tensorflow_backend._get_available_gpus()"
      ],
      "execution_count": 557,
      "outputs": [
        {
          "output_type": "execute_result",
          "data": {
            "text/plain": [
              "['/job:localhost/replica:0/task:0/device:GPU:0']"
            ]
          },
          "metadata": {
            "tags": []
          },
          "execution_count": 557
        }
      ]
    },
    {
      "cell_type": "code",
      "metadata": {
        "id": "mIp_y31Hi2sc",
        "colab_type": "code",
        "outputId": "ea05a30b-d2c7-4b41-ec54-5255c4b60729",
        "colab": {
          "base_uri": "https://localhost:8080/",
          "height": 238
        }
      },
      "source": [
        "dataset = pd.read_csv('/content/Consumo_cerveja.csv')\n",
        "print(dataset.columns)\n",
        "print(dataset.describe())"
      ],
      "execution_count": 558,
      "outputs": [
        {
          "output_type": "stream",
          "text": [
            "Index(['Data', 'Temperatura Media (C)', 'Temperatura Minima (C)',\n",
            "       'Temperatura Maxima (C)', 'Precipitacao (mm)', 'Final de Semana',\n",
            "       'Consumo de cerveja (litros)'],\n",
            "      dtype='object')\n",
            "       Final de Semana  Consumo de cerveja (litros)\n",
            "count       365.000000                   365.000000\n",
            "mean          0.284932                    25.401367\n",
            "std           0.452001                     4.399143\n",
            "min           0.000000                    14.343000\n",
            "25%           0.000000                    22.008000\n",
            "50%           0.000000                    24.867000\n",
            "75%           1.000000                    28.631000\n",
            "max           1.000000                    37.937000\n"
          ],
          "name": "stdout"
        }
      ]
    },
    {
      "cell_type": "code",
      "metadata": {
        "colab_type": "code",
        "id": "J8UQt5hHn-KU",
        "colab": {}
      },
      "source": [
        "dataset = dataset[:365]    # ignore all the non value cells"
      ],
      "execution_count": 0,
      "outputs": []
    },
    {
      "cell_type": "code",
      "metadata": {
        "id": "wBhXD9ogtMgK",
        "colab_type": "code",
        "colab": {}
      },
      "source": [
        "# translate column names\n",
        "dataset.columns = ('Date', 'Medium', 'Min', 'Max', 'Precipitation', 'Weekend', 'Consumption')"
      ],
      "execution_count": 0,
      "outputs": []
    },
    {
      "cell_type": "code",
      "metadata": {
        "id": "lC4L-KLhu2bG",
        "colab_type": "code",
        "outputId": "e0e1e7c8-7a81-4e9a-c0e2-f728ca06b94b",
        "colab": {
          "base_uri": "https://localhost:8080/",
          "height": 204
        }
      },
      "source": [
        "dataset.head(5)"
      ],
      "execution_count": 561,
      "outputs": [
        {
          "output_type": "execute_result",
          "data": {
            "text/html": [
              "<div>\n",
              "<style scoped>\n",
              "    .dataframe tbody tr th:only-of-type {\n",
              "        vertical-align: middle;\n",
              "    }\n",
              "\n",
              "    .dataframe tbody tr th {\n",
              "        vertical-align: top;\n",
              "    }\n",
              "\n",
              "    .dataframe thead th {\n",
              "        text-align: right;\n",
              "    }\n",
              "</style>\n",
              "<table border=\"1\" class=\"dataframe\">\n",
              "  <thead>\n",
              "    <tr style=\"text-align: right;\">\n",
              "      <th></th>\n",
              "      <th>Date</th>\n",
              "      <th>Medium</th>\n",
              "      <th>Min</th>\n",
              "      <th>Max</th>\n",
              "      <th>Precipitation</th>\n",
              "      <th>Weekend</th>\n",
              "      <th>Consumption</th>\n",
              "    </tr>\n",
              "  </thead>\n",
              "  <tbody>\n",
              "    <tr>\n",
              "      <th>0</th>\n",
              "      <td>2015-01-01</td>\n",
              "      <td>27,3</td>\n",
              "      <td>23,9</td>\n",
              "      <td>32,5</td>\n",
              "      <td>0</td>\n",
              "      <td>0.0</td>\n",
              "      <td>25.461</td>\n",
              "    </tr>\n",
              "    <tr>\n",
              "      <th>1</th>\n",
              "      <td>2015-01-02</td>\n",
              "      <td>27,02</td>\n",
              "      <td>24,5</td>\n",
              "      <td>33,5</td>\n",
              "      <td>0</td>\n",
              "      <td>0.0</td>\n",
              "      <td>28.972</td>\n",
              "    </tr>\n",
              "    <tr>\n",
              "      <th>2</th>\n",
              "      <td>2015-01-03</td>\n",
              "      <td>24,82</td>\n",
              "      <td>22,4</td>\n",
              "      <td>29,9</td>\n",
              "      <td>0</td>\n",
              "      <td>1.0</td>\n",
              "      <td>30.814</td>\n",
              "    </tr>\n",
              "    <tr>\n",
              "      <th>3</th>\n",
              "      <td>2015-01-04</td>\n",
              "      <td>23,98</td>\n",
              "      <td>21,5</td>\n",
              "      <td>28,6</td>\n",
              "      <td>1,2</td>\n",
              "      <td>1.0</td>\n",
              "      <td>29.799</td>\n",
              "    </tr>\n",
              "    <tr>\n",
              "      <th>4</th>\n",
              "      <td>2015-01-05</td>\n",
              "      <td>23,82</td>\n",
              "      <td>21</td>\n",
              "      <td>28,3</td>\n",
              "      <td>0</td>\n",
              "      <td>0.0</td>\n",
              "      <td>28.900</td>\n",
              "    </tr>\n",
              "  </tbody>\n",
              "</table>\n",
              "</div>"
            ],
            "text/plain": [
              "         Date Medium   Min   Max Precipitation  Weekend  Consumption\n",
              "0  2015-01-01   27,3  23,9  32,5             0      0.0       25.461\n",
              "1  2015-01-02  27,02  24,5  33,5             0      0.0       28.972\n",
              "2  2015-01-03  24,82  22,4  29,9             0      1.0       30.814\n",
              "3  2015-01-04  23,98  21,5  28,6           1,2      1.0       29.799\n",
              "4  2015-01-05  23,82    21  28,3             0      0.0       28.900"
            ]
          },
          "metadata": {
            "tags": []
          },
          "execution_count": 561
        }
      ]
    },
    {
      "cell_type": "code",
      "metadata": {
        "colab_type": "code",
        "outputId": "4f93341a-541d-4c20-d1ef-4be69a7b2119",
        "id": "wfynH-MPn9iG",
        "colab": {
          "base_uri": "https://localhost:8080/",
          "height": 204
        }
      },
      "source": [
        "def convert_to_float(features):\n",
        "    for feature in features:\n",
        "        dataset[feature] = dataset[feature].str.replace(',', '.').astype(float)\n",
        "\n",
        "convert_to_float([\"Medium\", \"Min\", \"Max\", \"Precipitation\"])\n",
        "dataset.head(5)"
      ],
      "execution_count": 562,
      "outputs": [
        {
          "output_type": "execute_result",
          "data": {
            "text/html": [
              "<div>\n",
              "<style scoped>\n",
              "    .dataframe tbody tr th:only-of-type {\n",
              "        vertical-align: middle;\n",
              "    }\n",
              "\n",
              "    .dataframe tbody tr th {\n",
              "        vertical-align: top;\n",
              "    }\n",
              "\n",
              "    .dataframe thead th {\n",
              "        text-align: right;\n",
              "    }\n",
              "</style>\n",
              "<table border=\"1\" class=\"dataframe\">\n",
              "  <thead>\n",
              "    <tr style=\"text-align: right;\">\n",
              "      <th></th>\n",
              "      <th>Date</th>\n",
              "      <th>Medium</th>\n",
              "      <th>Min</th>\n",
              "      <th>Max</th>\n",
              "      <th>Precipitation</th>\n",
              "      <th>Weekend</th>\n",
              "      <th>Consumption</th>\n",
              "    </tr>\n",
              "  </thead>\n",
              "  <tbody>\n",
              "    <tr>\n",
              "      <th>0</th>\n",
              "      <td>2015-01-01</td>\n",
              "      <td>27.30</td>\n",
              "      <td>23.9</td>\n",
              "      <td>32.5</td>\n",
              "      <td>0.0</td>\n",
              "      <td>0.0</td>\n",
              "      <td>25.461</td>\n",
              "    </tr>\n",
              "    <tr>\n",
              "      <th>1</th>\n",
              "      <td>2015-01-02</td>\n",
              "      <td>27.02</td>\n",
              "      <td>24.5</td>\n",
              "      <td>33.5</td>\n",
              "      <td>0.0</td>\n",
              "      <td>0.0</td>\n",
              "      <td>28.972</td>\n",
              "    </tr>\n",
              "    <tr>\n",
              "      <th>2</th>\n",
              "      <td>2015-01-03</td>\n",
              "      <td>24.82</td>\n",
              "      <td>22.4</td>\n",
              "      <td>29.9</td>\n",
              "      <td>0.0</td>\n",
              "      <td>1.0</td>\n",
              "      <td>30.814</td>\n",
              "    </tr>\n",
              "    <tr>\n",
              "      <th>3</th>\n",
              "      <td>2015-01-04</td>\n",
              "      <td>23.98</td>\n",
              "      <td>21.5</td>\n",
              "      <td>28.6</td>\n",
              "      <td>1.2</td>\n",
              "      <td>1.0</td>\n",
              "      <td>29.799</td>\n",
              "    </tr>\n",
              "    <tr>\n",
              "      <th>4</th>\n",
              "      <td>2015-01-05</td>\n",
              "      <td>23.82</td>\n",
              "      <td>21.0</td>\n",
              "      <td>28.3</td>\n",
              "      <td>0.0</td>\n",
              "      <td>0.0</td>\n",
              "      <td>28.900</td>\n",
              "    </tr>\n",
              "  </tbody>\n",
              "</table>\n",
              "</div>"
            ],
            "text/plain": [
              "         Date  Medium   Min   Max  Precipitation  Weekend  Consumption\n",
              "0  2015-01-01   27.30  23.9  32.5            0.0      0.0       25.461\n",
              "1  2015-01-02   27.02  24.5  33.5            0.0      0.0       28.972\n",
              "2  2015-01-03   24.82  22.4  29.9            0.0      1.0       30.814\n",
              "3  2015-01-04   23.98  21.5  28.6            1.2      1.0       29.799\n",
              "4  2015-01-05   23.82  21.0  28.3            0.0      0.0       28.900"
            ]
          },
          "metadata": {
            "tags": []
          },
          "execution_count": 562
        }
      ]
    },
    {
      "cell_type": "code",
      "metadata": {
        "id": "ANfkF3seu9da",
        "colab_type": "code",
        "outputId": "7d5bc0d9-d057-46a4-b2f8-849f888edaf6",
        "colab": {
          "base_uri": "https://localhost:8080/",
          "height": 153
        }
      },
      "source": [
        "dataset.isna().sum()"
      ],
      "execution_count": 563,
      "outputs": [
        {
          "output_type": "execute_result",
          "data": {
            "text/plain": [
              "Date             0\n",
              "Medium           0\n",
              "Min              0\n",
              "Max              0\n",
              "Precipitation    0\n",
              "Weekend          0\n",
              "Consumption      0\n",
              "dtype: int64"
            ]
          },
          "metadata": {
            "tags": []
          },
          "execution_count": 563
        }
      ]
    },
    {
      "cell_type": "code",
      "metadata": {
        "id": "W0vmtzQKu_eh",
        "colab_type": "code",
        "colab": {}
      },
      "source": [
        "# alright we have no missed values there\n",
        "date_column = dataset.pop('Date')"
      ],
      "execution_count": 0,
      "outputs": []
    },
    {
      "cell_type": "code",
      "metadata": {
        "id": "JdwMkG_LvSh6",
        "colab_type": "code",
        "outputId": "16e0e1e8-6d76-4151-8766-28e2c7734646",
        "colab": {
          "base_uri": "https://localhost:8080/",
          "height": 119
        }
      },
      "source": [
        "date_column = pd.to_datetime(date_column)\n",
        "date_column.head(5)"
      ],
      "execution_count": 565,
      "outputs": [
        {
          "output_type": "execute_result",
          "data": {
            "text/plain": [
              "0   2015-01-01\n",
              "1   2015-01-02\n",
              "2   2015-01-03\n",
              "3   2015-01-04\n",
              "4   2015-01-05\n",
              "Name: Date, dtype: datetime64[ns]"
            ]
          },
          "metadata": {
            "tags": []
          },
          "execution_count": 565
        }
      ]
    },
    {
      "cell_type": "code",
      "metadata": {
        "id": "OWSoPyyDv_1n",
        "colab_type": "code",
        "colab": {}
      },
      "source": [
        "dataset['Day'] = date_column.dt.day"
      ],
      "execution_count": 0,
      "outputs": []
    },
    {
      "cell_type": "code",
      "metadata": {
        "id": "XxG9hizowN4p",
        "colab_type": "code",
        "colab": {}
      },
      "source": [
        "dataset['Month'] = date_column.dt.month\n",
        "dataset['Year'] = date_column.dt.year"
      ],
      "execution_count": 0,
      "outputs": []
    },
    {
      "cell_type": "code",
      "metadata": {
        "id": "H2i9NPtAwUsp",
        "colab_type": "code",
        "outputId": "aae530b9-1241-494a-fce6-6cbe49272933",
        "colab": {
          "base_uri": "https://localhost:8080/",
          "height": 204
        }
      },
      "source": [
        "dataset.head(5)"
      ],
      "execution_count": 568,
      "outputs": [
        {
          "output_type": "execute_result",
          "data": {
            "text/html": [
              "<div>\n",
              "<style scoped>\n",
              "    .dataframe tbody tr th:only-of-type {\n",
              "        vertical-align: middle;\n",
              "    }\n",
              "\n",
              "    .dataframe tbody tr th {\n",
              "        vertical-align: top;\n",
              "    }\n",
              "\n",
              "    .dataframe thead th {\n",
              "        text-align: right;\n",
              "    }\n",
              "</style>\n",
              "<table border=\"1\" class=\"dataframe\">\n",
              "  <thead>\n",
              "    <tr style=\"text-align: right;\">\n",
              "      <th></th>\n",
              "      <th>Medium</th>\n",
              "      <th>Min</th>\n",
              "      <th>Max</th>\n",
              "      <th>Precipitation</th>\n",
              "      <th>Weekend</th>\n",
              "      <th>Consumption</th>\n",
              "      <th>Day</th>\n",
              "      <th>Month</th>\n",
              "      <th>Year</th>\n",
              "    </tr>\n",
              "  </thead>\n",
              "  <tbody>\n",
              "    <tr>\n",
              "      <th>0</th>\n",
              "      <td>27.30</td>\n",
              "      <td>23.9</td>\n",
              "      <td>32.5</td>\n",
              "      <td>0.0</td>\n",
              "      <td>0.0</td>\n",
              "      <td>25.461</td>\n",
              "      <td>1</td>\n",
              "      <td>1</td>\n",
              "      <td>2015</td>\n",
              "    </tr>\n",
              "    <tr>\n",
              "      <th>1</th>\n",
              "      <td>27.02</td>\n",
              "      <td>24.5</td>\n",
              "      <td>33.5</td>\n",
              "      <td>0.0</td>\n",
              "      <td>0.0</td>\n",
              "      <td>28.972</td>\n",
              "      <td>2</td>\n",
              "      <td>1</td>\n",
              "      <td>2015</td>\n",
              "    </tr>\n",
              "    <tr>\n",
              "      <th>2</th>\n",
              "      <td>24.82</td>\n",
              "      <td>22.4</td>\n",
              "      <td>29.9</td>\n",
              "      <td>0.0</td>\n",
              "      <td>1.0</td>\n",
              "      <td>30.814</td>\n",
              "      <td>3</td>\n",
              "      <td>1</td>\n",
              "      <td>2015</td>\n",
              "    </tr>\n",
              "    <tr>\n",
              "      <th>3</th>\n",
              "      <td>23.98</td>\n",
              "      <td>21.5</td>\n",
              "      <td>28.6</td>\n",
              "      <td>1.2</td>\n",
              "      <td>1.0</td>\n",
              "      <td>29.799</td>\n",
              "      <td>4</td>\n",
              "      <td>1</td>\n",
              "      <td>2015</td>\n",
              "    </tr>\n",
              "    <tr>\n",
              "      <th>4</th>\n",
              "      <td>23.82</td>\n",
              "      <td>21.0</td>\n",
              "      <td>28.3</td>\n",
              "      <td>0.0</td>\n",
              "      <td>0.0</td>\n",
              "      <td>28.900</td>\n",
              "      <td>5</td>\n",
              "      <td>1</td>\n",
              "      <td>2015</td>\n",
              "    </tr>\n",
              "  </tbody>\n",
              "</table>\n",
              "</div>"
            ],
            "text/plain": [
              "   Medium   Min   Max  Precipitation  Weekend  Consumption  Day  Month  Year\n",
              "0   27.30  23.9  32.5            0.0      0.0       25.461    1      1  2015\n",
              "1   27.02  24.5  33.5            0.0      0.0       28.972    2      1  2015\n",
              "2   24.82  22.4  29.9            0.0      1.0       30.814    3      1  2015\n",
              "3   23.98  21.5  28.6            1.2      1.0       29.799    4      1  2015\n",
              "4   23.82  21.0  28.3            0.0      0.0       28.900    5      1  2015"
            ]
          },
          "metadata": {
            "tags": []
          },
          "execution_count": 568
        }
      ]
    },
    {
      "cell_type": "code",
      "metadata": {
        "id": "Ny46-agswWDU",
        "colab_type": "code",
        "outputId": "2a6ff260-963e-478c-8321-3c8128ed2c26",
        "colab": {
          "base_uri": "https://localhost:8080/",
          "height": 34
        }
      },
      "source": [
        "dataset.shape"
      ],
      "execution_count": 569,
      "outputs": [
        {
          "output_type": "execute_result",
          "data": {
            "text/plain": [
              "(365, 9)"
            ]
          },
          "metadata": {
            "tags": []
          },
          "execution_count": 569
        }
      ]
    },
    {
      "cell_type": "code",
      "metadata": {
        "id": "nPUvzJNNwaPr",
        "colab_type": "code",
        "colab": {}
      },
      "source": [
        "def plot_correlation_matrix(data):\n",
        "    plt.figure(figsize=(10, 10))\n",
        "    top_features = data.corr().index\n",
        "    color = plt.get_cmap('RdYlGn')\n",
        "    color.set_bad('lightblue')\n",
        "    sns.heatmap(data[top_features].corr(), annot=True, cmap=color)"
      ],
      "execution_count": 0,
      "outputs": []
    },
    {
      "cell_type": "code",
      "metadata": {
        "id": "5saUOIRfxUp5",
        "colab_type": "code",
        "outputId": "477b4d11-a7b7-482f-fcb7-61b2c9b36997",
        "colab": {
          "base_uri": "https://localhost:8080/",
          "height": 651
        }
      },
      "source": [
        "plot_correlation_matrix(dataset)"
      ],
      "execution_count": 571,
      "outputs": [
        {
          "output_type": "display_data",
          "data": {
            "image/png": "[encoded data removed]",
            "text/plain": [
              "<Figure size 720x720 with 2 Axes>"
            ]
          },
          "metadata": {
            "tags": []
          }
        }
      ]
    },
    {
      "cell_type": "code",
      "metadata": {
        "id": "sO0uRArKzhDe",
        "colab_type": "code",
        "colab": {}
      },
      "source": [
        "dataset.drop('Year', axis=1, inplace=True)   # year is the same for all rows and thus we dont need it"
      ],
      "execution_count": 0,
      "outputs": []
    },
    {
      "cell_type": "code",
      "metadata": {
        "id": "YgYGEzbpzyLi",
        "colab_type": "code",
        "outputId": "bcd3ebc6-ddcd-400f-b2a4-dac5dfc6bd61",
        "colab": {
          "base_uri": "https://localhost:8080/",
          "height": 651
        }
      },
      "source": [
        "plot_correlation_matrix(dataset)"
      ],
      "execution_count": 573,
      "outputs": [
        {
          "output_type": "display_data",
          "data": {
            "image/png": "[encoded data removed]",
            "text/plain": [
              "<Figure size 720x720 with 2 Axes>"
            ]
          },
          "metadata": {
            "tags": []
          }
        }
      ]
    },
    {
      "cell_type": "code",
      "metadata": {
        "id": "nSZRgE-tE8De",
        "colab_type": "code",
        "outputId": "5f1597d2-63a3-47eb-cf79-4a869aab0d94",
        "colab": {
          "base_uri": "https://localhost:8080/",
          "height": 204
        }
      },
      "source": [
        "dataset.Precipitation.replace(to_replace=0, value=dataset.Precipitation.mean(), inplace=True)   # fill missed values in the Precipitation feature\n",
        "\n",
        "def normalize_data(features=[\"Min\", \"Max\", \"Precipitation\", \"Day\", \"Month\"], normalize_output=False):\n",
        "    if normalize_output:\n",
        "        dataset[\"Consumption\"] = (dataset[\"Consumption\"] - dataset[\"Consumption\"].mean()) / dataset[\"Consumption\"].std()\n",
        "    for feature in features:\n",
        "        dataset[feature] = (dataset[feature] - dataset[feature].mean()) / dataset[feature].std()\n",
        "\n",
        "normalize_data(normalize_output=False)\n",
        "dataset.head(5)"
      ],
      "execution_count": 574,
      "outputs": [
        {
          "output_type": "execute_result",
          "data": {
            "text/html": [
              "<div>\n",
              "<style scoped>\n",
              "    .dataframe tbody tr th:only-of-type {\n",
              "        vertical-align: middle;\n",
              "    }\n",
              "\n",
              "    .dataframe tbody tr th {\n",
              "        vertical-align: top;\n",
              "    }\n",
              "\n",
              "    .dataframe thead th {\n",
              "        text-align: right;\n",
              "    }\n",
              "</style>\n",
              "<table border=\"1\" class=\"dataframe\">\n",
              "  <thead>\n",
              "    <tr style=\"text-align: right;\">\n",
              "      <th></th>\n",
              "      <th>Medium</th>\n",
              "      <th>Min</th>\n",
              "      <th>Max</th>\n",
              "      <th>Precipitation</th>\n",
              "      <th>Weekend</th>\n",
              "      <th>Consumption</th>\n",
              "      <th>Day</th>\n",
              "      <th>Month</th>\n",
              "    </tr>\n",
              "  </thead>\n",
              "  <tbody>\n",
              "    <tr>\n",
              "      <th>0</th>\n",
              "      <td>27.30</td>\n",
              "      <td>2.278205</td>\n",
              "      <td>1.363909</td>\n",
              "      <td>-0.273944</td>\n",
              "      <td>0.0</td>\n",
              "      <td>25.461</td>\n",
              "      <td>-1.671209</td>\n",
              "      <td>-1.600548</td>\n",
              "    </tr>\n",
              "    <tr>\n",
              "      <th>1</th>\n",
              "      <td>27.02</td>\n",
              "      <td>2.490506</td>\n",
              "      <td>1.595532</td>\n",
              "      <td>-0.273944</td>\n",
              "      <td>0.0</td>\n",
              "      <td>28.972</td>\n",
              "      <td>-1.557680</td>\n",
              "      <td>-1.600548</td>\n",
              "    </tr>\n",
              "    <tr>\n",
              "      <th>2</th>\n",
              "      <td>24.82</td>\n",
              "      <td>1.747455</td>\n",
              "      <td>0.761690</td>\n",
              "      <td>-0.273944</td>\n",
              "      <td>1.0</td>\n",
              "      <td>30.814</td>\n",
              "      <td>-1.444151</td>\n",
              "      <td>-1.600548</td>\n",
              "    </tr>\n",
              "    <tr>\n",
              "      <th>3</th>\n",
              "      <td>23.98</td>\n",
              "      <td>1.429004</td>\n",
              "      <td>0.460580</td>\n",
              "      <td>-0.626699</td>\n",
              "      <td>1.0</td>\n",
              "      <td>29.799</td>\n",
              "      <td>-1.330622</td>\n",
              "      <td>-1.600548</td>\n",
              "    </tr>\n",
              "    <tr>\n",
              "      <th>4</th>\n",
              "      <td>23.82</td>\n",
              "      <td>1.252087</td>\n",
              "      <td>0.391093</td>\n",
              "      <td>-0.273944</td>\n",
              "      <td>0.0</td>\n",
              "      <td>28.900</td>\n",
              "      <td>-1.217093</td>\n",
              "      <td>-1.600548</td>\n",
              "    </tr>\n",
              "  </tbody>\n",
              "</table>\n",
              "</div>"
            ],
            "text/plain": [
              "   Medium       Min       Max  ...  Consumption       Day     Month\n",
              "0   27.30  2.278205  1.363909  ...       25.461 -1.671209 -1.600548\n",
              "1   27.02  2.490506  1.595532  ...       28.972 -1.557680 -1.600548\n",
              "2   24.82  1.747455  0.761690  ...       30.814 -1.444151 -1.600548\n",
              "3   23.98  1.429004  0.460580  ...       29.799 -1.330622 -1.600548\n",
              "4   23.82  1.252087  0.391093  ...       28.900 -1.217093 -1.600548\n",
              "\n",
              "[5 rows x 8 columns]"
            ]
          },
          "metadata": {
            "tags": []
          },
          "execution_count": 574
        }
      ]
    },
    {
      "cell_type": "code",
      "metadata": {
        "id": "JhdD6LQcpzrP",
        "colab_type": "code",
        "outputId": "669abd98-fa3a-4e5a-f309-b9f0bd0eaa6a",
        "colab": {
          "base_uri": "https://localhost:8080/",
          "height": 34
        }
      },
      "source": [
        "def split_trainingset(dataset, feature=None):\n",
        "    # turn the regression to univariate with setting the feature argument\n",
        "    y = dataset.pop('Consumption')\n",
        "    if not feature:\n",
        "        X = dataset\n",
        "    else:\n",
        "        X = dataset[feature]\n",
        "\n",
        "    X.fillna(X.mean(), inplace=True)\n",
        "    y.fillna(y.mean(), inplace=True)\n",
        "    X, y = X.to_numpy().astype(np.float32), y.to_numpy().astype(np.float32)\n",
        "    y = y.reshape(-1, 1)\n",
        "    \n",
        "    if feature:\n",
        "        X = X.reshape(-1, 1)\n",
        "\n",
        "    print(X.shape, y.shape, type(X), type(y))\n",
        "    return X, y\n",
        "\n",
        "X, y = split_trainingset(dataset, feature=\"Medium\")"
      ],
      "execution_count": 575,
      "outputs": [
        {
          "output_type": "stream",
          "text": [
            "(365, 1) (365, 1) <class 'numpy.ndarray'> <class 'numpy.ndarray'>\n"
          ],
          "name": "stdout"
        }
      ]
    },
    {
      "cell_type": "code",
      "metadata": {
        "id": "h7-9v0fw1QY0",
        "colab_type": "code",
        "colab": {}
      },
      "source": [
        "# convert numpy to tensors\n",
        "X = torch.from_numpy(X)\n",
        "y = torch.from_numpy(y)\n"
      ],
      "execution_count": 0,
      "outputs": []
    },
    {
      "cell_type": "code",
      "metadata": {
        "id": "dXeVpyOk1m_E",
        "colab_type": "code",
        "colab": {
          "base_uri": "https://localhost:8080/",
          "height": 34
        },
        "outputId": "95a85a8f-249f-4948-95c3-e179e58ae868"
      },
      "source": [
        "trainset = TensorDataset(X, y)\n",
        "loader = DataLoader(trainset, batch_size=32, shuffle=True) \n",
        "print(X.shape)"
      ],
      "execution_count": 577,
      "outputs": [
        {
          "output_type": "stream",
          "text": [
            "torch.Size([365, 1])\n"
          ],
          "name": "stdout"
        }
      ]
    },
    {
      "cell_type": "code",
      "metadata": {
        "id": "uvPiknDV1vuM",
        "colab_type": "code",
        "colab": {}
      },
      "source": [
        "class Net(nn.Module):\n",
        "    def __init__(self, n_features=X.shape[1], n_out=1):\n",
        "        super().__init__()\n",
        "        self.fc1 = nn.Linear(n_features, n_out)\n",
        "        # self.fc2 = nn.Linear(20, n_out)\n",
        "        # self.relu = nn.ReLU()\n",
        "        \n",
        "    def forward(self, x):\n",
        "        out = self.fc1(x)\n",
        "        # out = self.fc2(out)\n",
        "        return out"
      ],
      "execution_count": 0,
      "outputs": []
    },
    {
      "cell_type": "code",
      "metadata": {
        "id": "qfcPiF7G2ErV",
        "colab_type": "code",
        "colab": {}
      },
      "source": [
        "model = Net()\n",
        "\n",
        "optimizer = optim.SGD(model.parameters(), lr=0.00001)\n",
        "criterion = nn.MSELoss()\n",
        "\n",
        "def training_func(model, loss_fn, optimizer):\n",
        "    # Builds function that performs a step in the train loop\n",
        "    def train_step(x, y):\n",
        "        # Sets model to TRAIN mode\n",
        "        model.train()\n",
        "        # Makes predictions\n",
        "        out = model(x)\n",
        "        # Computes loss\n",
        "        loss = loss_fn(out, y)\n",
        "        # Computes gradients\n",
        "        loss.backward()\n",
        "        # Updates parameters and zeroes gradients\n",
        "        optimizer.step()\n",
        "        optimizer.zero_grad()\n",
        "        # Returns the loss\n",
        "        return loss.item()\n",
        "    \n",
        "    # Returns the function that will be called inside the train loop\n",
        "    return train_step"
      ],
      "execution_count": 0,
      "outputs": []
    },
    {
      "cell_type": "code",
      "metadata": {
        "id": "F56BDlfNdJSt",
        "colab_type": "code",
        "colab": {}
      },
      "source": [
        "train = training_func(model, criterion, optimizer)\n",
        "\n",
        "def fit(epochs=100):\n",
        "    losses, iters= [], []\n",
        "    count = 0\n",
        "    for e in range(epochs):\n",
        "        for x, y in loader:\n",
        "            loss = train(x, y)\n",
        "            count += 1\n",
        "            if count % 50 == 0:\n",
        "                losses.append(loss)\n",
        "                iters.append(count)\n",
        "\n",
        "    return losses, iters\n"
      ],
      "execution_count": 0,
      "outputs": []
    },
    {
      "cell_type": "code",
      "metadata": {
        "id": "GUKNdhsG7zud",
        "colab_type": "code",
        "outputId": "efd98a3b-62ba-4409-c41d-3d9b55c77117",
        "colab": {
          "base_uri": "https://localhost:8080/",
          "height": 303
        }
      },
      "source": [
        "losses, iters = fit(100)\n",
        "print(losses[-5:-1])\n",
        "print(iters[:5])\n",
        "plt.plot(iters, losses)\n",
        "plt.show()\n"
      ],
      "execution_count": 581,
      "outputs": [
        {
          "output_type": "stream",
          "text": [
            "[12.318857192993164, 11.119576454162598, 9.445330619812012, 11.212627410888672]\n",
            "[50, 100, 150, 200, 250]\n"
          ],
          "name": "stdout"
        },
        {
          "output_type": "display_data",
          "data": {
            "image/png": "[encoded data removed]",
            "text/plain": [
              "<Figure size 432x288 with 1 Axes>"
            ]
          },
          "metadata": {
            "tags": []
          }
        }
      ]
    },
    {
      "cell_type": "code",
      "metadata": {
        "id": "YEabvxJxHImi",
        "colab_type": "code",
        "outputId": "dd416aae-e591-4763-ee9b-899e1f3dca95",
        "colab": {
          "base_uri": "https://localhost:8080/",
          "height": 71
        }
      },
      "source": [
        "def test():\n",
        "    model.eval()\n",
        "    \n",
        "    losses = []\n",
        "    count = 0\n",
        "    with torch.no_grad():\n",
        "        \n",
        "        for X_test, y_test in loader:\n",
        "            \n",
        "            out = model(X_test)\n",
        "            loss = criterion(out, y_test)\n",
        "            losses.append(loss)\n",
        "    return losses\n",
        "\n",
        "val_losses = test()\n",
        "print(val_losses)\n",
        "print(\"average loss: \", sum(val_losses) / len(val_losses))\n"
      ],
      "execution_count": 582,
      "outputs": [
        {
          "output_type": "stream",
          "text": [
            "[tensor(10.1555), tensor(16.4905), tensor(19.4729), tensor(15.4538), tensor(13.3810), tensor(8.7479), tensor(12.2863), tensor(16.6429), tensor(15.2377), tensor(14.1161), tensor(17.8891), tensor(6.6147)]\n",
            "average loss:  tensor(13.8740)\n"
          ],
          "name": "stdout"
        }
      ]
    },
    {
      "cell_type": "code",
      "metadata": {
        "id": "NRnoWmZ6sCCF",
        "colab_type": "code",
        "colab": {}
      },
      "source": [
        "def plot_result(model, x, y):\n",
        "    with torch.no_grad():\n",
        "        pred = model(x)\n",
        "        pred = pred.detach().numpy()\n",
        "        x = x.detach().numpy()\n",
        "        y = y.detach().numpy()\n",
        "        print(pred.shape, y.shape)\n",
        "        # w, b = model.parameters()\n",
        "        # w = w.detach().numpy()\n",
        "        # b = b.detach().numpy()\n",
        "        # best_fit = x * w + b\n",
        "        x_ax = np.arange(0, len(x))\n",
        "        plt.scatter(x, y, marker=\"o\", cmap='b')\n",
        "        # plt.scatter(x, pred, marker=\"P\", cmap='g')\n",
        "        plt.plot(x, pred, color='red')\n",
        "        plt.show()\n"
      ],
      "execution_count": 0,
      "outputs": []
    },
    {
      "cell_type": "code",
      "metadata": {
        "id": "R1rG7KhRtz-n",
        "colab_type": "code",
        "outputId": "86773078-9bff-4223-c059-f39c5cdf6f8d",
        "colab": {
          "base_uri": "https://localhost:8080/",
          "height": 286
        }
      },
      "source": [
        "plot_result(model, X, y)"
      ],
      "execution_count": 584,
      "outputs": [
        {
          "output_type": "stream",
          "text": [
            "(365, 1) (365, 1)\n"
          ],
          "name": "stdout"
        },
        {
          "output_type": "display_data",
          "data": {
            "image/png": "[encoded data removed]",
            "text/plain": [
              "<Figure size 432x288 with 1 Axes>"
            ]
          },
          "metadata": {
            "tags": []
          }
        }
      ]
    },
    {
      "cell_type": "code",
      "metadata": {
        "id": "oxZeqQW8t2Lx",
        "colab_type": "code",
        "colab": {}
      },
      "source": [
        ""
      ],
      "execution_count": 0,
      "outputs": []
    }
  ]
}